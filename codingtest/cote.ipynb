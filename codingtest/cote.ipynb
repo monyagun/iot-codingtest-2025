{
 "cells": [
  {
   "cell_type": "markdown",
   "id": "472cde14",
   "metadata": {},
   "source": [
    "### 자연수 뒤집어 배열로 만들기\n",
    "\n",
    "<img src=\"../image/ct1111.png\" width=\"500\">"
   ]
  },
  {
   "cell_type": "code",
   "execution_count": 4,
   "id": "3dd6a78a",
   "metadata": {},
   "outputs": [],
   "source": [
    "def solution(n):\n",
    "    answer = []\n",
    "    for digit in str(n):    # 문자열로 만들고\n",
    "        answer.insert(0, int(digit))    # 정수로 바꾸고 리스트 맨앞에 추가\n",
    "    return answer\n"
   ]
  },
  {
   "cell_type": "code",
   "execution_count": 5,
   "id": "43d85b5f",
   "metadata": {},
   "outputs": [
    {
     "name": "stdout",
     "output_type": "stream",
     "text": [
      "[2, 4, 5, 7, 8]\n"
     ]
    }
   ],
   "source": [
    "print(solution(87542))"
   ]
  }
 ],
 "metadata": {
  "kernelspec": {
   "display_name": "3.11.9",
   "language": "python",
   "name": "python3"
  },
  "language_info": {
   "codemirror_mode": {
    "name": "ipython",
    "version": 3
   },
   "file_extension": ".py",
   "mimetype": "text/x-python",
   "name": "python",
   "nbconvert_exporter": "python",
   "pygments_lexer": "ipython3",
   "version": "3.11.9"
  }
 },
 "nbformat": 4,
 "nbformat_minor": 5
}
