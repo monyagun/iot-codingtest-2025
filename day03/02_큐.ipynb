{
 "cells": [
  {
   "cell_type": "markdown",
   "id": "44910916",
   "metadata": {},
   "source": [
    "## 큐\n",
    "\n",
    "### 개념\n",
    "\n",
    "#### ADT\n",
    "- `boolean isFull()` : 큐가 가득찼는지 확인\n",
    "- `boolean isEmpty()` : 큐가 비어있는지 확인\n",
    "- `void enQueue(item)`  : 큐에 데이터 추가\n",
    "- `item deQueue()` : 큐에서 데이터 추출\n",
    "- `int front` : 큐에서 다음에 추출할 데이터 위치\n",
    "- `int rear` : 큐에서 최근에 추가한 데이터 위치\n",
    "- `item data[maxsize]` : 큐에서 데이터 관리하는 자료구조\n",
    "\n",
    "#### 외부라이브러리\n",
    "- Queue는 외부라이브러리가 아주 많음\n",
    "- collections.deque, multiprocessing.Queue, asyncio.Queue, janus, redis-py, kombu, rq ..."
   ]
  },
  {
   "cell_type": "code",
   "execution_count": 5,
   "id": "033cea54",
   "metadata": {},
   "outputs": [],
   "source": [
    "# 구현1\n",
    "queue = []\n",
    "\n",
    "queue.append(3)  # enqueue\n",
    "queue.append(6)\n",
    "queue.append(9)"
   ]
  },
  {
   "cell_type": "code",
   "execution_count": 6,
   "id": "d534165a",
   "metadata": {},
   "outputs": [
    {
     "data": {
      "text/plain": [
       "3"
      ]
     },
     "execution_count": 6,
     "metadata": {},
     "output_type": "execute_result"
    }
   ],
   "source": [
    "first_item = queue.pop(0)  # dequeue\n",
    "first_item"
   ]
  },
  {
   "cell_type": "code",
   "execution_count": 7,
   "id": "e7da4184",
   "metadata": {},
   "outputs": [
    {
     "data": {
      "text/plain": [
       "[6, 9]"
      ]
     },
     "execution_count": 7,
     "metadata": {},
     "output_type": "execute_result"
    }
   ],
   "source": [
    "queue"
   ]
  },
  {
   "cell_type": "code",
   "execution_count": 8,
   "id": "a0826d9b",
   "metadata": {},
   "outputs": [],
   "source": [
    "queue.append(11)\n",
    "queue.append(13)"
   ]
  },
  {
   "cell_type": "code",
   "execution_count": 9,
   "id": "7053361b",
   "metadata": {},
   "outputs": [
    {
     "data": {
      "text/plain": [
       "[6, 9, 11, 13]"
      ]
     },
     "execution_count": 9,
     "metadata": {},
     "output_type": "execute_result"
    }
   ],
   "source": [
    "queue"
   ]
  },
  {
   "cell_type": "code",
   "execution_count": 10,
   "id": "52c7c17c",
   "metadata": {},
   "outputs": [
    {
     "data": {
      "text/plain": [
       "6"
      ]
     },
     "execution_count": 10,
     "metadata": {},
     "output_type": "execute_result"
    }
   ],
   "source": [
    "queue.pop(0)"
   ]
  },
  {
   "cell_type": "code",
   "execution_count": 12,
   "id": "e88c72e5",
   "metadata": {},
   "outputs": [
    {
     "data": {
      "text/plain": [
       "[9, 11, 13]"
      ]
     },
     "execution_count": 12,
     "metadata": {},
     "output_type": "execute_result"
    }
   ],
   "source": [
    "queue"
   ]
  },
  {
   "cell_type": "code",
   "execution_count": 13,
   "id": "aa47bf4f",
   "metadata": {},
   "outputs": [],
   "source": [
    "# 구현 2, deque 사용\n",
    "from collections import deque\n",
    "\n",
    "queue2 = deque()"
   ]
  },
  {
   "cell_type": "code",
   "execution_count": null,
   "id": "511d82d5",
   "metadata": {},
   "outputs": [],
   "source": [
    "queue2.append(1)   # enqueue\n",
    "queue2.append(3)\n",
    "queue2.append(5)"
   ]
  },
  {
   "cell_type": "code",
   "execution_count": null,
   "id": "05b3991e",
   "metadata": {},
   "outputs": [],
   "source": [
    "queue2.appendleft(-1)  # deque 특징. 양쪽에서 데이터를 추가할 수 있음"
   ]
  },
  {
   "cell_type": "code",
   "execution_count": 17,
   "id": "96f18bc3",
   "metadata": {},
   "outputs": [
    {
     "data": {
      "text/plain": [
       "deque([-1, 1, 3, 5])"
      ]
     },
     "execution_count": 17,
     "metadata": {},
     "output_type": "execute_result"
    }
   ],
   "source": [
    "queue2"
   ]
  },
  {
   "cell_type": "code",
   "execution_count": 18,
   "id": "b6fde7ab",
   "metadata": {},
   "outputs": [
    {
     "data": {
      "text/plain": [
       "5"
      ]
     },
     "execution_count": 18,
     "metadata": {},
     "output_type": "execute_result"
    }
   ],
   "source": [
    "queue2.pop()  # 스택형태, 사용하면 안됨"
   ]
  },
  {
   "cell_type": "code",
   "execution_count": 19,
   "id": "30a95e95",
   "metadata": {},
   "outputs": [
    {
     "data": {
      "text/plain": [
       "-1"
      ]
     },
     "execution_count": 19,
     "metadata": {},
     "output_type": "execute_result"
    }
   ],
   "source": [
    "queue2.popleft() # dequeue"
   ]
  },
  {
   "cell_type": "markdown",
   "id": "920b16d3",
   "metadata": {},
   "source": [
    "#### 성능테스트"
   ]
  },
  {
   "cell_type": "code",
   "execution_count": 29,
   "id": "752b6a94",
   "metadata": {},
   "outputs": [],
   "source": [
    "from collections import deque\n",
    "import time\n",
    "\n",
    "lst = list(range(100000))\n",
    "dq = deque(range(100000))"
   ]
  },
  {
   "cell_type": "code",
   "execution_count": 24,
   "id": "7633cdf2",
   "metadata": {},
   "outputs": [
    {
     "name": "stdout",
     "output_type": "stream",
     "text": [
      "pop(0) 소요시간 : 10.036961078643799\n"
     ]
    }
   ],
   "source": [
    "# pop(0)\n",
    "start_time = time.time()\n",
    "for i in range(100000):\n",
    "    lst.pop(0)\n",
    "end_time = time.time()\n",
    "print(f'pop(0) 소요시간 : {end_time - start_time}')"
   ]
  },
  {
   "cell_type": "code",
   "execution_count": 30,
   "id": "7ba3dae9",
   "metadata": {},
   "outputs": [
    {
     "name": "stdout",
     "output_type": "stream",
     "text": [
      "popleft() 소요시간 : 0.01114654541015625\n"
     ]
    }
   ],
   "source": [
    "# popleft()\n",
    "start_time = time.time()\n",
    "for i in range(100000):\n",
    "    dq.popleft()\n",
    "end_time = time.time()\n",
    "print(f'popleft() 소요시간 : {end_time - start_time}')"
   ]
  },
  {
   "cell_type": "markdown",
   "id": "28878d8b",
   "metadata": {},
   "source": [
    "- queue를 구현할때는 deque를 import해서 구현할 것\n",
    "- 속도차이로 일반리스트로 구현하면 코딩테스트시 불리할 수 있음"
   ]
  },
  {
   "cell_type": "markdown",
   "id": "ab839ee4",
   "metadata": {},
   "source": [
    "### 몸풀기 문제\n",
    "\n",
    "#### 요세푸스 문제\n",
    "- 유대인 역사가 플라비우스 요세푸스가 만든 문제"
   ]
  },
  {
   "cell_type": "code",
   "execution_count": null,
   "id": "31784ec5",
   "metadata": {},
   "outputs": [],
   "source": [
    "# 요세푸스 문제 구현\n",
    "from collections import deque\n",
    "\n",
    "def solution(N, K):\n",
    "    # 1부터 N까지 deque에 삽입\n",
    "    queue = deque(range(1, N + 1))\n",
    "\n",
    "    while len(queue) > 1:   # queue에 하나의 요소가 남을때까지 반복\n",
    "        for _ in range(K - 1): # K-1번째 데이터만 꺼내서 뒤로 보냄\n",
    "            queue.append(queue.popleft())  # K번째 요소를 찾을때까지 앞에서 부터 제거하고 뒤로 보냄\n",
    "\n",
    "        queue.popleft()  # 제거(데이터 꺼내고 다른곳에 할당X)\n",
    "\n",
    "    return queue[0]"
   ]
  },
  {
   "cell_type": "code",
   "execution_count": 37,
   "id": "e60ffcbc",
   "metadata": {},
   "outputs": [
    {
     "data": {
      "text/plain": [
       "3"
      ]
     },
     "execution_count": 37,
     "metadata": {},
     "output_type": "execute_result"
    }
   ],
   "source": [
    "solution(5, 2)"
   ]
  },
  {
   "cell_type": "markdown",
   "id": "0ae58fc1",
   "metadata": {},
   "source": [
    "#### 카드뭉치\n",
    "- https://school.programmers.co.kr/learn/courses/30/lessons/159994\n"
   ]
  },
  {
   "cell_type": "code",
   "execution_count": 38,
   "id": "618fbfee",
   "metadata": {},
   "outputs": [],
   "source": [
    "# 예전 소스\n",
    "def solution(cards1, cards2, goal):\n",
    "    answer = 'Yes'\n",
    "    index1, index2 = 0, 0\n",
    "\n",
    "    for word in goal:\n",
    "        # [\"i\", \"want\", \"to\", \"drink\", \"water\"] 와 같은 단어가\n",
    "        # card1 안에 있다\n",
    "        if index1 < len(cards1) and word == cards1[index1]: # 두 조건 순서 조심!\n",
    "            index1 += 1\n",
    "        elif index2 < len(cards2) and word == cards2[index2]:\n",
    "            index2 += 1\n",
    "        else:\n",
    "            answer = 'No'\n",
    "            break\n",
    "\n",
    "    return answer\n",
    "\n"
   ]
  },
  {
   "cell_type": "code",
   "execution_count": 40,
   "id": "6a210403",
   "metadata": {},
   "outputs": [],
   "source": [
    "from collections import deque\n",
    "\n",
    "def solution(cards1, cards2, goal):\n",
    "    # cards와 goal을 deque로 변환\n",
    "    cards1, cards2, goal = deque(cards1), deque(cards2), deque(goal)\n",
    "\n",
    "    # goal의 문자열을 하나씩 꺼내서 반복\n",
    "    while goal:\n",
    "        # cards1 맨 첫 요소와 goal의 첫 요소가 일치하면\n",
    "        if cards1 and cards1[0] == goal[0]:\n",
    "            cards1.popleft()\n",
    "            goal.popleft()\n",
    "        # cards2 맨 첫 요소와 goal의 첫 요소가 일치하면\n",
    "        elif cards2 and cards2[0] == goal[0]:\n",
    "            cards2.popleft()\n",
    "            goal.popleft()\n",
    "        else: # 일치하는 요소가 없으면 종료\n",
    "            break\n",
    "\n",
    "    return 'Yes' if not goal else 'No'  # goal 비었으면 Yes 아니면, No\n"
   ]
  },
  {
   "cell_type": "code",
   "execution_count": 43,
   "id": "77f7e420",
   "metadata": {},
   "outputs": [
    {
     "data": {
      "text/plain": [
       "'Yes'"
      ]
     },
     "execution_count": 43,
     "metadata": {},
     "output_type": "execute_result"
    }
   ],
   "source": [
    "solution([\"i\", \"drink\", \"water\"], [\"want\", \"to\"], [\"i\", \"want\", \"to\", \"drink\", \"water\"])"
   ]
  },
  {
   "cell_type": "code",
   "execution_count": 42,
   "id": "ea6cacf6",
   "metadata": {},
   "outputs": [
    {
     "data": {
      "text/plain": [
       "'No'"
      ]
     },
     "execution_count": 42,
     "metadata": {},
     "output_type": "execute_result"
    }
   ],
   "source": [
    "solution([\"i\", \"water\", \"drink\"], [\"want\", \"to\"], [\"i\", \"want\", \"to\", \"drink\", \"water\"])"
   ]
  }
 ],
 "metadata": {
  "kernelspec": {
   "display_name": "3.11.9",
   "language": "python",
   "name": "python3"
  },
  "language_info": {
   "codemirror_mode": {
    "name": "ipython",
    "version": 3
   },
   "file_extension": ".py",
   "mimetype": "text/x-python",
   "name": "python",
   "nbconvert_exporter": "python",
   "pygments_lexer": "ipython3",
   "version": "3.11.9"
  }
 },
 "nbformat": 4,
 "nbformat_minor": 5
}
